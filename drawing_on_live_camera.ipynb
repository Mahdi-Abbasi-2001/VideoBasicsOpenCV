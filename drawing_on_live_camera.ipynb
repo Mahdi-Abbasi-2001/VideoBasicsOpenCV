{
 "cells": [
  {
   "cell_type": "code",
   "execution_count": 1,
   "metadata": {},
   "outputs": [],
   "source": [
    "import cv2"
   ]
  },
  {
   "cell_type": "code",
   "execution_count": 8,
   "metadata": {},
   "outputs": [],
   "source": [
    "cap = cv2.VideoCapture(0)\n",
    "\n",
    "width = cap.get(cv2.CAP_PROP_FRAME_WIDTH)\n",
    "height = cap.get(cv2.CAP_PROP_FRAME_HEIGHT)\n",
    "\n",
    "x, y, w, h = int(width / 2), int(height / 2), int(width / 4), int(height / 4)\n",
    "print(type(width))\n",
    "\n",
    "while True:\n",
    "    ret, frame = cap.read()\n",
    "\n",
    "    cv2.rectangle(frame, (x, y), (x+w, y+h), color=(0, 0, 255), thickness=3)\n",
    "\n",
    "    cv2.imshow('frame', frame)\n",
    "\n",
    "    if cv2.waitKey(10) & 0xFF == ord('q'):\n",
    "        break\n",
    "\n",
    "cap.release()\n",
    "cv2.destroyAllWindows()"
   ]
  },
  {
   "cell_type": "code",
   "execution_count": 10,
   "metadata": {},
   "outputs": [],
   "source": [
    "\n",
    "\n",
    "def draw_rectangle(event, x, y, flags, param):\n",
    "    global pt1, pt2, top_left_clicked, bottom_right_clicked\n",
    "    \n",
    "    if event == cv2.EVENT_LBUTTONDOWN:\n",
    "        if top_left_clicked and bottom_right_clicked:\n",
    "            pt1 = (0, 0)\n",
    "            pt2 = (0, 0)\n",
    "            top_left_clicked = False\n",
    "            bottom_right_clicked = False\n",
    "        if not top_left_clicked:\n",
    "            pt1 = (x, y)\n",
    "            top_left_clicked = True\n",
    "        elif not bottom_right_clicked:\n",
    "            pt2 = (x, y)\n",
    "            bottom_right_clicked = True\n",
    "\n",
    "\n",
    "pt1 = (0, 0)\n",
    "pt2 = (0, 0)\n",
    "top_left_clicked = False\n",
    "bottom_right_clicked = False\n",
    "\n",
    "cap = cv2.VideoCapture(0)\n",
    "\n",
    "cv2.namedWindow('Test')\n",
    "cv2.setMouseCallback('Test', draw_rectangle)\n",
    "\n",
    "while True:\n",
    "    ret, frame = cap.read()\n",
    "\n",
    "    if top_left_clicked:\n",
    "        cv2.circle(frame, center=pt1, radius=2, color=(0, 0, 255), thickness=-1)\n",
    "\n",
    "    if top_left_clicked and bottom_right_clicked:\n",
    "        cv2.rectangle(frame, pt1, pt2, (0, 0, 255), 3)\n",
    "\n",
    "    cv2.imshow('Test', frame)\n",
    "\n",
    "    if cv2.waitKey(10) & 0xFF == ord('q'):\n",
    "        break\n",
    "\n",
    "cap.release()\n",
    "cv2.destroyAllWindows()"
   ]
  }
 ],
 "metadata": {
  "kernelspec": {
   "display_name": "env",
   "language": "python",
   "name": "python3"
  },
  "language_info": {
   "codemirror_mode": {
    "name": "ipython",
    "version": 3
   },
   "file_extension": ".py",
   "mimetype": "text/x-python",
   "name": "python",
   "nbconvert_exporter": "python",
   "pygments_lexer": "ipython3",
   "version": "3.11.5"
  }
 },
 "nbformat": 4,
 "nbformat_minor": 2
}
